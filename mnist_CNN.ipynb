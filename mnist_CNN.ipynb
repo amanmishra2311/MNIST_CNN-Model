{
  "nbformat": 4,
  "nbformat_minor": 0,
  "metadata": {
    "colab": {
      "name": "mnist_CNN.ipynb",
      "provenance": []
    },
    "kernelspec": {
      "name": "python3",
      "display_name": "Python 3"
    },
    "accelerator": "GPU"
  },
  "cells": [
    {
      "cell_type": "code",
      "metadata": {
        "id": "P8ucT6vFniRa",
        "outputId": "ff5fef1e-f6d0-4b5e-8453-e020fa21d143",
        "colab": {
          "base_uri": "https://localhost:8080/",
          "height": 80
        }
      },
      "source": [
        "from  keras.datasets import mnist\n",
        "from matplotlib import pyplot as plt\n",
        "from keras.utils.np_utils import to_categorical as tcg\n",
        "from keras.models import Sequential\n",
        "from keras.layers import Dense,Dropout,Flatten\n",
        "from keras.layers.convolutional import Conv2D,MaxPooling2D"
      ],
      "execution_count": null,
      "outputs": [
        {
          "output_type": "stream",
          "text": [
            "Using TensorFlow backend.\n"
          ],
          "name": "stderr"
        },
        {
          "output_type": "display_data",
          "data": {
            "text/html": [
              "<p style=\"color: red;\">\n",
              "The default version of TensorFlow in Colab will soon switch to TensorFlow 2.x.<br>\n",
              "We recommend you <a href=\"https://www.tensorflow.org/guide/migrate\" target=\"_blank\">upgrade</a> now \n",
              "or ensure your notebook will continue to use TensorFlow 1.x via the <code>%tensorflow_version 1.x</code> magic:\n",
              "<a href=\"https://colab.research.google.com/notebooks/tensorflow_version.ipynb\" target=\"_blank\">more info</a>.</p>\n"
            ],
            "text/plain": [
              "<IPython.core.display.HTML object>"
            ]
          },
          "metadata": {
            "tags": []
          }
        }
      ]
    },
    {
      "cell_type": "code",
      "metadata": {
        "id": "V8GX5L81nren",
        "outputId": "62c26f9a-5b5f-41f9-c31b-dcb5db5b521c",
        "colab": {
          "base_uri": "https://localhost:8080/",
          "height": 51
        }
      },
      "source": [
        "(xtr,ytr),(xte,yte)=mnist.load_data()"
      ],
      "execution_count": null,
      "outputs": [
        {
          "output_type": "stream",
          "text": [
            "Downloading data from https://s3.amazonaws.com/img-datasets/mnist.npz\n",
            "11493376/11490434 [==============================] - 1s 0us/step\n"
          ],
          "name": "stdout"
        }
      ]
    },
    {
      "cell_type": "code",
      "metadata": {
        "id": "iYMYpOxgnu-Y"
      },
      "source": [
        "xtr=xtr.reshape(xtr.shape[0],xtr.shape[1],xtr.shape[2],1).astype('float32')/255\n",
        "xte=xte.reshape(xte.shape[0],xte.shape[1],xte.shape[2],1).astype('float32')/255"
      ],
      "execution_count": null,
      "outputs": []
    },
    {
      "cell_type": "code",
      "metadata": {
        "id": "lEecbKC6oF6K"
      },
      "source": [
        "ytr=tcg(ytr)\n",
        "yte=tcg(yte)"
      ],
      "execution_count": null,
      "outputs": []
    },
    {
      "cell_type": "code",
      "metadata": {
        "id": "JmGV-8c7oMDI",
        "outputId": "8ecbf0c0-29c0-4895-9ae2-897f00e7ee57",
        "colab": {
          "base_uri": "https://localhost:8080/",
          "height": 1000
        }
      },
      "source": [
        "model=Sequential()\n",
        "model.add(Conv2D(32,(3,3),activation='relu'))\n",
        "model.add(MaxPooling2D(pool_size=(2,2)))\n",
        "model.add(Conv2D(64,(3,3),activation='relu'))\n",
        "model.add(MaxPooling2D(pool_size=(2,2)))\n",
        "model.add(Flatten())\n",
        "model.add(Dense(1024,activation='relu'))\n",
        "model.add(Dense(512,activation='relu'))\n",
        "model.add(Dense(10,activation='softmax'))\n",
        "model.compile(loss='categorical_crossentropy',optimizer='adam',metrics=['accuracy'])\n",
        "model.fit(xtr,ytr,validation_data=(xte,yte),epochs=30,batch_size=256)"
      ],
      "execution_count": null,
      "outputs": [
        {
          "output_type": "stream",
          "text": [
            "WARNING:tensorflow:From /usr/local/lib/python3.6/dist-packages/keras/backend/tensorflow_backend.py:541: The name tf.placeholder is deprecated. Please use tf.compat.v1.placeholder instead.\n",
            "\n",
            "WARNING:tensorflow:From /usr/local/lib/python3.6/dist-packages/keras/backend/tensorflow_backend.py:4432: The name tf.random_uniform is deprecated. Please use tf.random.uniform instead.\n",
            "\n",
            "WARNING:tensorflow:From /usr/local/lib/python3.6/dist-packages/keras/backend/tensorflow_backend.py:4267: The name tf.nn.max_pool is deprecated. Please use tf.nn.max_pool2d instead.\n",
            "\n",
            "WARNING:tensorflow:From /usr/local/lib/python3.6/dist-packages/keras/backend/tensorflow_backend.py:3576: The name tf.log is deprecated. Please use tf.math.log instead.\n",
            "\n",
            "WARNING:tensorflow:From /usr/local/lib/python3.6/dist-packages/tensorflow_core/python/ops/math_grad.py:1424: where (from tensorflow.python.ops.array_ops) is deprecated and will be removed in a future version.\n",
            "Instructions for updating:\n",
            "Use tf.where in 2.0, which has the same broadcast rule as np.where\n",
            "WARNING:tensorflow:From /usr/local/lib/python3.6/dist-packages/keras/backend/tensorflow_backend.py:1033: The name tf.assign_add is deprecated. Please use tf.compat.v1.assign_add instead.\n",
            "\n",
            "WARNING:tensorflow:From /usr/local/lib/python3.6/dist-packages/keras/backend/tensorflow_backend.py:1020: The name tf.assign is deprecated. Please use tf.compat.v1.assign instead.\n",
            "\n",
            "WARNING:tensorflow:From /usr/local/lib/python3.6/dist-packages/keras/backend/tensorflow_backend.py:3005: The name tf.Session is deprecated. Please use tf.compat.v1.Session instead.\n",
            "\n",
            "Train on 60000 samples, validate on 10000 samples\n",
            "Epoch 1/30\n",
            "WARNING:tensorflow:From /usr/local/lib/python3.6/dist-packages/keras/backend/tensorflow_backend.py:190: The name tf.get_default_session is deprecated. Please use tf.compat.v1.get_default_session instead.\n",
            "\n",
            "WARNING:tensorflow:From /usr/local/lib/python3.6/dist-packages/keras/backend/tensorflow_backend.py:197: The name tf.ConfigProto is deprecated. Please use tf.compat.v1.ConfigProto instead.\n",
            "\n",
            "WARNING:tensorflow:From /usr/local/lib/python3.6/dist-packages/keras/backend/tensorflow_backend.py:207: The name tf.global_variables is deprecated. Please use tf.compat.v1.global_variables instead.\n",
            "\n",
            "WARNING:tensorflow:From /usr/local/lib/python3.6/dist-packages/keras/backend/tensorflow_backend.py:216: The name tf.is_variable_initialized is deprecated. Please use tf.compat.v1.is_variable_initialized instead.\n",
            "\n",
            "WARNING:tensorflow:From /usr/local/lib/python3.6/dist-packages/keras/backend/tensorflow_backend.py:223: The name tf.variables_initializer is deprecated. Please use tf.compat.v1.variables_initializer instead.\n",
            "\n",
            "60000/60000 [==============================] - 18s 296us/step - loss: 0.2033 - acc: 0.9371 - val_loss: 0.0492 - val_acc: 0.9837\n",
            "Epoch 2/30\n",
            "60000/60000 [==============================] - 4s 72us/step - loss: 0.0470 - acc: 0.9857 - val_loss: 0.0413 - val_acc: 0.9863\n",
            "Epoch 3/30\n",
            "60000/60000 [==============================] - 4s 73us/step - loss: 0.0303 - acc: 0.9902 - val_loss: 0.0379 - val_acc: 0.9877\n",
            "Epoch 4/30\n",
            "60000/60000 [==============================] - 4s 72us/step - loss: 0.0210 - acc: 0.9936 - val_loss: 0.0321 - val_acc: 0.9893\n",
            "Epoch 5/30\n",
            "60000/60000 [==============================] - 4s 72us/step - loss: 0.0168 - acc: 0.9946 - val_loss: 0.0234 - val_acc: 0.9927\n",
            "Epoch 6/30\n",
            "60000/60000 [==============================] - 4s 72us/step - loss: 0.0124 - acc: 0.9962 - val_loss: 0.0288 - val_acc: 0.9911\n",
            "Epoch 7/30\n",
            "60000/60000 [==============================] - 4s 72us/step - loss: 0.0121 - acc: 0.9959 - val_loss: 0.0376 - val_acc: 0.9895\n",
            "Epoch 8/30\n",
            "60000/60000 [==============================] - 4s 72us/step - loss: 0.0106 - acc: 0.9964 - val_loss: 0.0255 - val_acc: 0.9931\n",
            "Epoch 9/30\n",
            "60000/60000 [==============================] - 4s 73us/step - loss: 0.0060 - acc: 0.9980 - val_loss: 0.0356 - val_acc: 0.9909\n",
            "Epoch 10/30\n",
            "60000/60000 [==============================] - 4s 72us/step - loss: 0.0049 - acc: 0.9986 - val_loss: 0.0342 - val_acc: 0.9913\n",
            "Epoch 11/30\n",
            "60000/60000 [==============================] - 4s 73us/step - loss: 0.0078 - acc: 0.9974 - val_loss: 0.0328 - val_acc: 0.9913\n",
            "Epoch 12/30\n",
            "60000/60000 [==============================] - 4s 73us/step - loss: 0.0070 - acc: 0.9979 - val_loss: 0.0277 - val_acc: 0.9928\n",
            "Epoch 13/30\n",
            "60000/60000 [==============================] - 4s 73us/step - loss: 0.0042 - acc: 0.9986 - val_loss: 0.0303 - val_acc: 0.9922\n",
            "Epoch 14/30\n",
            "60000/60000 [==============================] - 4s 72us/step - loss: 0.0024 - acc: 0.9992 - val_loss: 0.0474 - val_acc: 0.9891\n",
            "Epoch 15/30\n",
            "60000/60000 [==============================] - 4s 72us/step - loss: 0.0082 - acc: 0.9974 - val_loss: 0.0290 - val_acc: 0.9929\n",
            "Epoch 16/30\n",
            "60000/60000 [==============================] - 4s 73us/step - loss: 0.0063 - acc: 0.9978 - val_loss: 0.0359 - val_acc: 0.9914\n",
            "Epoch 17/30\n",
            "60000/60000 [==============================] - 4s 72us/step - loss: 0.0043 - acc: 0.9986 - val_loss: 0.0351 - val_acc: 0.9924\n",
            "Epoch 18/30\n",
            "60000/60000 [==============================] - 4s 71us/step - loss: 0.0022 - acc: 0.9993 - val_loss: 0.0343 - val_acc: 0.9914\n",
            "Epoch 19/30\n",
            "60000/60000 [==============================] - 4s 71us/step - loss: 0.0025 - acc: 0.9993 - val_loss: 0.0364 - val_acc: 0.9922\n",
            "Epoch 20/30\n",
            "60000/60000 [==============================] - 4s 72us/step - loss: 0.0058 - acc: 0.9982 - val_loss: 0.0401 - val_acc: 0.9901\n",
            "Epoch 21/30\n",
            "60000/60000 [==============================] - 4s 72us/step - loss: 0.0023 - acc: 0.9993 - val_loss: 0.0350 - val_acc: 0.9927\n",
            "Epoch 22/30\n",
            "60000/60000 [==============================] - 4s 73us/step - loss: 0.0029 - acc: 0.9991 - val_loss: 0.0571 - val_acc: 0.9901\n",
            "Epoch 23/30\n",
            "60000/60000 [==============================] - 4s 73us/step - loss: 0.0026 - acc: 0.9992 - val_loss: 0.0411 - val_acc: 0.9913\n",
            "Epoch 24/30\n",
            "60000/60000 [==============================] - 4s 72us/step - loss: 0.0047 - acc: 0.9987 - val_loss: 0.0522 - val_acc: 0.9887\n",
            "Epoch 25/30\n",
            "60000/60000 [==============================] - 4s 72us/step - loss: 0.0042 - acc: 0.9987 - val_loss: 0.0433 - val_acc: 0.9905\n",
            "Epoch 26/30\n",
            "60000/60000 [==============================] - 4s 72us/step - loss: 0.0046 - acc: 0.9985 - val_loss: 0.0307 - val_acc: 0.9919\n",
            "Epoch 27/30\n",
            "60000/60000 [==============================] - 4s 73us/step - loss: 0.0024 - acc: 0.9991 - val_loss: 0.0450 - val_acc: 0.9901\n",
            "Epoch 28/30\n",
            "60000/60000 [==============================] - 4s 72us/step - loss: 0.0019 - acc: 0.9994 - val_loss: 0.0436 - val_acc: 0.9912\n",
            "Epoch 29/30\n",
            "60000/60000 [==============================] - 4s 71us/step - loss: 0.0032 - acc: 0.9990 - val_loss: 0.0292 - val_acc: 0.9936\n",
            "Epoch 30/30\n",
            "60000/60000 [==============================] - 4s 72us/step - loss: 0.0013 - acc: 0.9996 - val_loss: 0.0430 - val_acc: 0.9920\n"
          ],
          "name": "stdout"
        },
        {
          "output_type": "execute_result",
          "data": {
            "text/plain": [
              "<keras.callbacks.History at 0x7f88c607fb00>"
            ]
          },
          "metadata": {
            "tags": []
          },
          "execution_count": 6
        }
      ]
    },
    {
      "cell_type": "code",
      "metadata": {
        "id": "KgYUM3TxoPK5",
        "outputId": "97613a9c-c19e-4295-ec55-e292e5bb7494",
        "colab": {
          "base_uri": "https://localhost:8080/",
          "height": 238
        }
      },
      "source": [
        "model.predict(xte)\n"
      ],
      "execution_count": null,
      "outputs": [
        {
          "output_type": "execute_result",
          "data": {
            "text/plain": [
              "array([[2.46419778e-16, 8.93503604e-10, 4.03173961e-14, ...,\n",
              "        1.00000000e+00, 7.27571708e-16, 6.13115531e-11],\n",
              "       [1.32930016e-15, 8.43180072e-17, 1.00000000e+00, ...,\n",
              "        2.95342416e-16, 3.97097860e-16, 2.26772115e-22],\n",
              "       [9.41048238e-13, 1.00000000e+00, 5.46390710e-11, ...,\n",
              "        1.70841752e-09, 3.09956089e-10, 2.86183121e-12],\n",
              "       ...,\n",
              "       [1.65446677e-23, 1.07985213e-15, 1.08233844e-16, ...,\n",
              "        5.33658868e-16, 1.43357086e-15, 5.19372541e-19],\n",
              "       [2.23700656e-13, 2.49031763e-16, 3.14184187e-16, ...,\n",
              "        1.63448556e-17, 3.48963610e-12, 5.05898220e-13],\n",
              "       [1.00222079e-11, 9.04584296e-14, 7.90345827e-12, ...,\n",
              "        2.76794337e-15, 1.04605951e-12, 1.22942580e-14]], dtype=float32)"
            ]
          },
          "metadata": {
            "tags": []
          },
          "execution_count": 14
        }
      ]
    },
    {
      "cell_type": "code",
      "metadata": {
        "id": "REM33SyouUal"
      },
      "source": [
        ""
      ],
      "execution_count": null,
      "outputs": []
    }
  ]
}